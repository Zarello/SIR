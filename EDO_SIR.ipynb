{
  "nbformat": 4,
  "nbformat_minor": 0,
  "metadata": {
    "colab": {
      "provenance": []
    },
    "kernelspec": {
      "name": "python3",
      "display_name": "Python 3"
    },
    "language_info": {
      "name": "python"
    }
  },
  "cells": [
    {
      "cell_type": "code",
      "execution_count": null,
      "metadata": {
        "id": "k-vfCf1w904U"
      },
      "outputs": [],
      "source": [
        "import numpy as np\n",
        "import matplotlib.pylab as plt\n",
        "%matplotlib inline"
      ]
    },
    {
      "cell_type": "code",
      "source": [
        "def rk4vec( t0, m, u0, dt, f ):\n",
        "    \n",
        "    import numpy as np\n",
        "    \n",
        "    f0 = f ( t0, m, u0 )\n",
        "    t1 = t0 + dt / 2.0\n",
        "    u1 = np.zeros ( m )\n",
        "    u1[0:m] = u0[0:m] + dt * f0[0:m] / 2.0\n",
        "    f1 = f ( t1, m, u1 )\n",
        "    \n",
        "    t2 = t0 + dt / 2.0\n",
        "    u2 = np.zeros ( m )\n",
        "    u2[0:m] = u0[0:m] + dt * f1[0:m] / 2.0\n",
        "    f2 = f ( t2, m, u2 )\n",
        "    \n",
        "    t3 = t0 + dt\n",
        "    u3 = np.zeros ( m )\n",
        "    u3[0:m] = u0[0:m] + dt * f2[0:m]\n",
        "    f3 = f ( t3, m, u3 )\n",
        "    \n",
        "    u = np.zeros ( m )\n",
        "    u[0:m] = u0[0:m] + ( dt / 6.0 ) * ( \\\n",
        "                                       f0[0:m] \\\n",
        "                                       + 2.0 * f1[0:m] \\\n",
        "                                       + 2.0 * f2[0:m] \\\n",
        "                                       +       f3[0:m] )\n",
        "    return u"
      ],
      "metadata": {
        "id": "WC2w346AAHYZ"
      },
      "execution_count": null,
      "outputs": []
    },
    {
      "cell_type": "markdown",
      "source": [
      ],
      "metadata": {
        "id": "S-UnSwbYGNh8"
      }
    },
    {
      "cell_type": "code",
      "source": [
        "def dodoi(pop=100):\n",
        "    m = 3   # numero de equaçoes \n",
        "    n = 50 # numero de passos temporais\n",
        "    \n",
        "    tmin = 0.\n",
        "    tmax = 100.\n",
        "    t = np.linspace(tmin,tmax,n)\n",
        "    dt = t[1] - t[0]\n",
        "    \n",
        "    # agora criamos arrays para nossas variaveis\n",
        "    # u0 para valor inicial, u1 para valor final\n",
        "    # u0[0] : sucetiveis\n",
        "    # u0[1] : infectados\n",
        "    # u0[2] : recuperados\n",
        "  \n",
        "    \n",
        "    sus  = np.zeros([n])\n",
        "    infec = np.zeros([n])\n",
        "    rec  = np.zeros([n])\n",
        "    \n",
        "    u0 = np.zeros([m])\n",
        "    u1 = np.zeros_like(u0)\n",
        "    \n",
        "    # condicoes iniciais\n",
        "    u0[0] = 100\n",
        "    u0[1] = 1\n",
        "    u0[2] = 0\n",
        "  \n",
        "    \n",
        "    t0 = t[0]\n",
        "    \n",
        "    for i in range(n):\n",
        "        \n",
        "        # colocamos os valores iniciais nos arrays das variaveis\n",
        "        \n",
        "        sus[i]  = u0[0]\n",
        "        infec[i] = u0[1]\n",
        "        rec[i]  = u0[2]\n",
        "        \n",
        "        # chamamos a rotina rk4vec\n",
        "        u1 = rk4vec( t[i], m, u0, dt, dodoi_f)\n",
        "        \n",
        "        u0 = np.copy(u1)\n",
        "        \n",
        "    return sus,infec,rec,t"
      ],
      "metadata": {
        "id": "9EQ5kxNzALdx"
      },
      "execution_count": null,
      "outputs": []
    },
    {
      "cell_type": "code",
      "source": [
        "# Funcao que tem as equacoes diferenciais\n",
        "\n",
        "#Lado direiro da equação\n",
        "def dodoi_f(t,m,u):\n",
        "    uprime = np.zeros_like(u)\n",
        "    b = 0.4\n",
        "    g = 0.2\n",
        "    pop = 100\n",
        "\n",
        "    uprime[0] = -(b*u[1]*u[0])/pop\n",
        "    uprime[1] = ((b*u[1]*u[0])/pop) - g*u[1]\n",
        "    uprime[2] = g*u[1]\n",
        " \n",
        "    \n",
        "    return uprime"
      ],
      "metadata": {
        "id": "Kk5jWtH4AasU"
      },
      "execution_count": null,
      "outputs": []
    },
    {
      "cell_type": "code",
      "source": [
        "sus, infec, rec, t = dodoi(100)"
      ],
      "metadata": {
        "id": "MHufBEdmAdvO"
      },
      "execution_count": null,
      "outputs": []
    },
    {
      "cell_type": "code",
      "source": [
        "from IPython import display\n",
        "import time\n",
        "\n",
        "\n",
        "plt.xlim(0.,100.)\n",
        "plt.ylim(0,100)\n",
        "plt.xlabel('X')\n",
        "plt.ylabel('Z')\n",
        "plt.plot(sus,label='Suscetiveis')\n",
        "plt.plot(infec,label='Infectados')\n",
        "plt.plot(rec,label='Recuperados')\n",
        "plt.legend()\n"
      ],
      "metadata": {
        "colab": {
          "base_uri": "https://localhost:8080/",
          "height": 300
        },
        "id": "_K0Q4LuvAf-N",
        "outputId": "8b37c4bb-5cd7-42ae-ccad-3276e4396b17"
      },
      "execution_count": null,
      "outputs": [
        {
          "output_type": "execute_result",
          "data": {
            "text/plain": [
              "<matplotlib.legend.Legend at 0x7f549d992760>"
            ]
          },
          "metadata": {},
          "execution_count": 27
        },
        {
          "output_type": "display_data",
          "data": {
            "text/plain": [
              "<Figure size 432x288 with 1 Axes>"
            ],
            "image/png": "[encoded data removed]"
          },
          "metadata": {
            "needs_background": "light"
          }
        }
      ]
    }
  ]
}
